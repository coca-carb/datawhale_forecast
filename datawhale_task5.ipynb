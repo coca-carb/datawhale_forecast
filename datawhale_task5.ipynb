{
 "cells": [
  {
   "cell_type": "code",
   "execution_count": 1,
   "metadata": {},
   "outputs": [],
   "source": [
    "import pandas as pd\n",
    "import numpy as np\n",
    "import matplotlib.pyplot as plt\n",
    "import seaborn as sns\n",
    "import lightgbm as lgb\n",
    "from sklearn.model_selection import KFold\n",
    "from sklearn.metrics import r2_score\n",
    "plt.rcParams['font.sans-serif']=['SimHei'] #用来正常显示中文标签\n",
    "plt.rcParams['axes.unicode_minus']=False #用来正常显示负号"
   ]
  },
  {
   "cell_type": "code",
   "execution_count": 2,
   "metadata": {},
   "outputs": [],
   "source": [
    "train = pd.read_csv(r'E:\\PQJ\\just do it\\房租预测\\train_data.csv')\n",
    "test = pd.read_csv(r'E:\\PQJ\\just do it\\房租预测\\test_a.csv')"
   ]
  },
  {
   "cell_type": "code",
   "execution_count": 3,
   "metadata": {},
   "outputs": [
    {
     "name": "stdout",
     "output_type": "stream",
     "text": [
      "rentType: 0.7423745173745174\n",
      "houseToward: 0.02323841698841699\n",
      "houseDecoration: 0.7007722007722008\n",
      "buildYear: 0.06776061776061776\n"
     ]
    },
    {
     "name": "stderr",
     "output_type": "stream",
     "text": [
      "d:\\python\\lib\\site-packages\\ipykernel_launcher.py:3: SettingWithCopyWarning: \n",
      "A value is trying to be set on a copy of a slice from a DataFrame\n",
      "\n",
      "See the caveats in the documentation: http://pandas.pydata.org/pandas-docs/stable/indexing.html#indexing-view-versus-copy\n",
      "  This is separate from the ipykernel package so we can avoid doing imports until\n"
     ]
    }
   ],
   "source": [
    "length = len(train)\n",
    "\n",
    "train['rentType'][train['rentType']=='--'] = '未知方式'\n",
    "print('rentType:',list(train['rentType']).count(\"未知方式\")/length)\n",
    "print('houseToward:',list(train['houseToward']).count(\"暂无数据\")/length)\n",
    "print('houseDecoration:',list(train['houseDecoration']).count(\"其他\")/length)\n",
    "print('buildYear:',list(train['buildYear']).count(\"暂无信息\")/length)"
   ]
  },
  {
   "cell_type": "markdown",
   "metadata": {},
   "source": [
    "其中rentType和houseDecoration缺失值的比列达到70%，考虑将这两特征去除"
   ]
  },
  {
   "cell_type": "code",
   "execution_count": 4,
   "metadata": {},
   "outputs": [],
   "source": [
    "def parseData(df):\n",
    "    \"\"\"\n",
    "    预处理数据\n",
    "    \"\"\"\n",
    "    # 去掉部分特征\n",
    "    df.drop('ID', axis=1, inplace=True)#没意义的特征\n",
    "    df.drop('communityName',axis=1, inplace=True)#没意义的特征\n",
    "    df.drop('city',axis=1,inplace=True)#单调特征列，只有一个值\n",
    "    df.drop('rentType',axis=1, inplace=True)\n",
    "    df.drop('houseDecoration',axis=1,inplace=True)\n",
    "    \n",
    "    # 转换object类型数据\n",
    "    columns = [ 'houseFloor', 'houseToward', 'region', 'plate']\n",
    "    for col in columns:\n",
    "        df[col] = df[col].astype('category')\n",
    "        \n",
    "    # 将buildYear列转换为整型数据\n",
    "    tmp = df['buildYear'].copy()\n",
    "    tmp2 = tmp[tmp!='暂无信息'].astype('int')#先转整形\n",
    "    tmp[tmp=='暂无信息'] = tmp2.mode().iloc[0]#用众数填充独特的缺失值：'暂无信息'\n",
    "    df['buildYear'] = tmp\n",
    "    df['buildYear'] = df['buildYear'].astype('int')\n",
    "    \n",
    "    # 处理pv和uv的空值  uv和pv训练集和测试集分布类似，存在长尾现象，所以用均值填充\n",
    "    df['pv'].fillna(df['pv'].mean(),inplace=True)\n",
    "    df['uv'].fillna(df['uv'].mean(),inplace=True)\n",
    "    df['pv'] = df['pv'].astype('int')\n",
    "    df['uv'] = df['uv'].astype('int')\n",
    "    \n",
    "    \n",
    "    return df"
   ]
  },
  {
   "cell_type": "code",
   "execution_count": 5,
   "metadata": {},
   "outputs": [
    {
     "name": "stdout",
     "output_type": "stream",
     "text": [
      "              area\n",
      "count  2469.000000\n",
      "mean     76.031839\n",
      "std      29.080334\n",
      "min      15.000000\n",
      "25%      53.000000\n",
      "50%      73.160000\n",
      "75%      94.320000\n",
      "max     150.000000\n",
      "         region    plate\n",
      "count      2469     2469\n",
      "unique       14       63\n",
      "top     RG00002  BK00056\n",
      "freq        724      125\n"
     ]
    }
   ],
   "source": [
    "print(test[['area']].describe())\n",
    "print(test[['region','plate']].describe())"
   ]
  },
  {
   "cell_type": "markdown",
   "metadata": {},
   "source": [
    "通过测试集看到area范围在15-150之间"
   ]
  },
  {
   "cell_type": "code",
   "execution_count": 6,
   "metadata": {},
   "outputs": [
    {
     "data": {
      "text/plain": [
       "(RG00002    11437\n",
       " RG00005     5739\n",
       " RG00003     4186\n",
       " RG00010     3640\n",
       " RG00012     3368\n",
       " RG00004     3333\n",
       " RG00006     1961\n",
       " RG00007     1610\n",
       " RG00008     1250\n",
       " RG00013     1215\n",
       " RG00001     1157\n",
       " RG00014     1069\n",
       " RG00011      793\n",
       " RG00009      681\n",
       " RG00015        1\n",
       " Name: region, dtype: int64, RG00002    724\n",
       " RG00005    311\n",
       " RG00012    262\n",
       " RG00010    194\n",
       " RG00003    178\n",
       " RG00004    153\n",
       " RG00007    142\n",
       " RG00013     97\n",
       " RG00008     86\n",
       " RG00014     86\n",
       " RG00001     77\n",
       " RG00009     61\n",
       " RG00006     55\n",
       " RG00011     43\n",
       " Name: region, dtype: int64)"
      ]
     },
     "execution_count": 6,
     "metadata": {},
     "output_type": "execute_result"
    }
   ],
   "source": [
    "train[\"region\"].value_counts(),test[\"region\"].value_counts()"
   ]
  },
  {
   "cell_type": "markdown",
   "metadata": {},
   "source": [
    "删掉训练集中得RG00015"
   ]
  },
  {
   "cell_type": "code",
   "execution_count": 7,
   "metadata": {},
   "outputs": [
    {
     "name": "stdout",
     "output_type": "stream",
     "text": [
      "BK00031    1958\n",
      "BK00033    1837\n",
      "BK00045    1816\n",
      "BK00055    1566\n",
      "BK00056    1516\n",
      "BK00052    1375\n",
      "BK00017    1305\n",
      "BK00041    1266\n",
      "BK00054    1256\n",
      "BK00051    1253\n",
      "BK00046    1227\n",
      "BK00035    1156\n",
      "BK00042    1137\n",
      "BK00009    1016\n",
      "BK00050     979\n",
      "BK00043     930\n",
      "BK00026     906\n",
      "BK00047     880\n",
      "BK00034     849\n",
      "BK00013     834\n",
      "BK00053     819\n",
      "BK00028     745\n",
      "BK00040     679\n",
      "BK00060     671\n",
      "BK00010     651\n",
      "BK00029     646\n",
      "BK00062     618\n",
      "BK00022     614\n",
      "BK00018     613\n",
      "BK00064     590\n",
      "           ... \n",
      "BK00037     444\n",
      "BK00012     412\n",
      "BK00038     398\n",
      "BK00024     397\n",
      "BK00020     384\n",
      "BK00002     357\n",
      "BK00065     348\n",
      "BK00027     344\n",
      "BK00039     343\n",
      "BK00063     281\n",
      "BK00057     278\n",
      "BK00015     253\n",
      "BK00006     231\n",
      "BK00021     226\n",
      "BK00007     225\n",
      "BK00030     219\n",
      "BK00066     219\n",
      "BK00049     211\n",
      "BK00008     210\n",
      "BK00004     189\n",
      "BK00048     165\n",
      "BK00025     157\n",
      "BK00023     127\n",
      "BK00059     122\n",
      "BK00044      98\n",
      "BK00016      40\n",
      "BK00036      33\n",
      "BK00058      15\n",
      "BK00032       3\n",
      "BK00001       1\n",
      "Name: plate, Length: 66, dtype: int64 BK00056    125\n",
      "BK00054    114\n",
      "BK00052     99\n",
      "BK00055     99\n",
      "BK00033     92\n",
      "BK00028     79\n",
      "BK00045     78\n",
      "BK00009     66\n",
      "BK00010     64\n",
      "BK00035     61\n",
      "BK00017     60\n",
      "BK00041     57\n",
      "BK00013     57\n",
      "BK00031     55\n",
      "BK00051     54\n",
      "BK00034     53\n",
      "BK00043     52\n",
      "BK00026     50\n",
      "BK00064     49\n",
      "BK00047     46\n",
      "BK00042     44\n",
      "BK00005     44\n",
      "BK00060     44\n",
      "BK00050     44\n",
      "BK00012     43\n",
      "BK00029     42\n",
      "BK00053     41\n",
      "BK00018     38\n",
      "BK00046     37\n",
      "BK00024     36\n",
      "          ... \n",
      "BK00011     32\n",
      "BK00037     31\n",
      "BK00002     31\n",
      "BK00022     31\n",
      "BK00062     30\n",
      "BK00061     30\n",
      "BK00038     27\n",
      "BK00040     24\n",
      "BK00039     22\n",
      "BK00014     22\n",
      "BK00007     21\n",
      "BK00030     21\n",
      "BK00004     20\n",
      "BK00020     19\n",
      "BK00006     19\n",
      "BK00015     18\n",
      "BK00057     16\n",
      "BK00065     15\n",
      "BK00025     13\n",
      "BK00008     13\n",
      "BK00066     13\n",
      "BK00023     12\n",
      "BK00021     11\n",
      "BK00063     11\n",
      "BK00048     10\n",
      "BK00049      9\n",
      "BK00059      8\n",
      "BK00044      7\n",
      "BK00016      3\n",
      "BK00036      1\n",
      "Name: plate, Length: 63, dtype: int64\n",
      "1958\n",
      "********************\n",
      "BK00058\n",
      "BK00032\n",
      "BK00001\n"
     ]
    }
   ],
   "source": [
    "print(train[\"plate\"].value_counts(),test[\"plate\"].value_counts())\n",
    "print(train[\"plate\"].value_counts().iloc[0])\n",
    "train_pla = train[\"plate\"].value_counts().keys()\n",
    "test_pla = test[\"plate\"].value_counts().keys()\n",
    "print(\"*\"*20)\n",
    "# find different\n",
    "for i in train_pla:\n",
    "    if i not in test_pla:\n",
    "        print(i)"
   ]
  },
  {
   "cell_type": "code",
   "execution_count": 8,
   "metadata": {},
   "outputs": [],
   "source": [
    "def washData(df_train, df_test):\n",
    "    \"\"\"\n",
    "    清洗数据\n",
    "    \"\"\"\n",
    "    df_train = df_train[(df_train['area']<=230) & (df_train['area']>=5)]#比例大概是99%\n",
    "    df_train = df_train[df_train['remainNewNum'] < 3000]\n",
    "    df_train = df_train[df_train['tradeMoney']<=25000]\n",
    "    \n",
    "    df_train = df_train.drop(df_train[df_train['region']==\"RG00015\"].index)\n",
    "\n",
    "    df_trian = df_train.drop(df_train[(df_train[\"plate\"] == \"BK00058\")|(df_train[\"plate\"] == \"BK00032\")|(df_train[\"plate\"] == \"BK00001\")].index)\n",
    "    \n",
    "    return df_train, df_test\n"
   ]
  },
  {
   "cell_type": "code",
   "execution_count": 9,
   "metadata": {},
   "outputs": [],
   "source": [
    "def feature(df):\n",
    "    \"\"\"\n",
    "    特征工程\n",
    "    \"\"\"\n",
    "    # 将houseType转化为‘房间数’，‘厅数’，‘卫生间数’\n",
    "    def parseRoom(info, index):\n",
    "        res = int(info[index*2])\n",
    "        return res\n",
    "    df.insert(3,'室',None)\n",
    "    df.insert(4, '厅', None)\n",
    "    df.insert(5, '卫', None)\n",
    "    df.insert(6,'房间总数',None)\n",
    "    df['室'] = df['houseType'].apply(parseRoom, index=0)#将这一列的每一个值以str形式传入parseRoom函数中，返回info[index]\n",
    "    df['厅'] = df['houseType'].apply(parseRoom, index=1)\n",
    "    df['卫'] = df['houseType'].apply(parseRoom, index=2)\n",
    "    df.drop('houseType', axis=1, inplace=True)\n",
    "    #房间总数\n",
    "    df['房间总数'] = df[\"室\"] + df[\"卫\"] + df[\"厅\"]\n",
    "   \n",
    "    #交易月份\n",
    "    df['交易月份'] = df['tradeTime'].apply(lambda x: int(x.split('/')[1]))  #以 / 分割，返回list，取[1]即月份\n",
    "    df.drop('tradeTime', axis=1, inplace=True)\n",
    "    \n",
    "    #平方均价\n",
    "    df[\"tradeMean\"] = df[\"totalTradeMoney\"]/df[\"totalTradeArea\"]\n",
    "    df[\"tradeNewMean\"] = df[\"totalNewTradeMoney\"]/df[\"totalNewTradeArea\"]\n",
    "    \n",
    "    #周围建筑类型\n",
    "    df['stationnum'] = df['subwayStationNum'] + df['busStationNum']\n",
    "    df['schoolnum'] = df['interSchoolNum'] + df['schoolNum'] + df['privateSchoolNum']\n",
    "    df['medicalnum'] = df['hospitalNum'] + df['drugStoreNum']\n",
    "    df['sportnum'] = df['gymNum'] + df['parkNum']\n",
    "    df['marketnum'] = df['shopNum'] + df['mallNum'] + df['superMarketNum']\n",
    "    df = df.drop(['subwayStationNum','busStationNum', 'schoolNum',\n",
    "                  'interSchoolNum', 'privateSchoolNum',\n",
    "                  'hospitalNum', 'drugStoreNum',\n",
    "                  'gymNum',  'parkNum',\n",
    "                  'shopNum', 'mallNum', 'superMarketNum'], axis=1)\n",
    "    \n",
    "    \n",
    "    \n",
    "    \n",
    "    \n",
    "    categorical_feats = [ 'houseFloor', 'houseToward', 'region', 'plate']\n",
    "    return df, categorical_feats"
   ]
  },
  {
   "cell_type": "code",
   "execution_count": 10,
   "metadata": {},
   "outputs": [],
   "source": [
    "def getData(feature):\n",
    "    \"\"\"\n",
    "    获取数据\n",
    "    \"\"\"\n",
    "    train = pd.read_csv(r'E:\\PQJ\\just do it\\房租预测\\train_data.csv')\n",
    "    test = pd.read_csv(r'E:\\PQJ\\just do it\\房租预测\\test_a.csv')\n",
    "    \n",
    "    train = parseData(train)\n",
    "    test = parseData(test)\n",
    "    train, test = washData(train, test)\n",
    "    \n",
    "    train, col = feature(train)\n",
    "    test, col = feature(test)\n",
    "    \n",
    "    target = train.pop('tradeMoney')\n",
    "    features = train.columns\n",
    "    categorical_feats = col\n",
    "    \n",
    "    return train, test, target, features, categorical_feats"
   ]
  },
  {
   "cell_type": "code",
   "execution_count": 11,
   "metadata": {},
   "outputs": [],
   "source": [
    "train, test, target, features, categorical_feats = getData(feature)"
   ]
  },
  {
   "cell_type": "code",
   "execution_count": 19,
   "metadata": {},
   "outputs": [
    {
     "data": {
      "text/plain": [
       "(40884, 43)"
      ]
     },
     "execution_count": 19,
     "metadata": {},
     "output_type": "execute_result"
    }
   ],
   "source": [
    "train.shape"
   ]
  },
  {
   "cell_type": "markdown",
   "metadata": {},
   "source": [
    "# 特征选择"
   ]
  },
  {
   "cell_type": "markdown",
   "metadata": {},
   "source": [
    "**卡方**"
   ]
  },
  {
   "cell_type": "code",
   "execution_count": 28,
   "metadata": {},
   "outputs": [
    {
     "data": {
      "text/plain": [
       "array([[ 68.06,   2.  ,   1.  , ...,  13.  ,  20.  , 101.  ],\n",
       "       [125.55,   3.  ,   2.  , ...,  28.  ,  11.  , 218.  ],\n",
       "       [132.  ,   3.  ,   2.  , ...,  27.  ,  41.  , 119.  ],\n",
       "       ...,\n",
       "       [  9.2 ,   4.  ,   1.  , ...,  75.  ,  49.  , 319.  ],\n",
       "       [ 14.1 ,   4.  ,   1.  , ...,  75.  ,  49.  , 319.  ],\n",
       "       [ 33.5 ,   1.  ,   1.  , ...,  53.  ,  50.  , 428.  ]])"
      ]
     },
     "execution_count": 28,
     "metadata": {},
     "output_type": "execute_result"
    }
   ],
   "source": [
    "from sklearn.feature_selection import SelectKBest,SelectPercentile\n",
    "from sklearn.feature_selection import chi2\n",
    "\n",
    "X = train\n",
    "y = target\n",
    "\n",
    "# 去掉字符型特征\n",
    "for col in X.columns:\n",
    "    if X[col].dtype.name == \"category\":\n",
    "        X = X.drop([col],axis=1)\n",
    "\n",
    "X = X.fillna(0)#对NaN值填充为0\n",
    "\n",
    "X_new = SelectKBest(chi2, k='all').fit_transform(X, y)\n",
    "X_new"
   ]
  },
  {
   "cell_type": "markdown",
   "metadata": {},
   "source": [
    "**Wrapper （RFE）**"
   ]
  },
  {
   "cell_type": "code",
   "execution_count": 32,
   "metadata": {},
   "outputs": [
    {
     "data": {
      "text/plain": [
       "array([[ 68.06,   2.  ,   1.  , ...,  13.  ,  20.  , 101.  ],\n",
       "       [125.55,   3.  ,   2.  , ...,  28.  ,  11.  , 218.  ],\n",
       "       [132.  ,   3.  ,   2.  , ...,  27.  ,  41.  , 119.  ],\n",
       "       ...,\n",
       "       [  9.2 ,   4.  ,   1.  , ...,  75.  ,  49.  , 319.  ],\n",
       "       [ 14.1 ,   4.  ,   1.  , ...,  75.  ,  49.  , 319.  ],\n",
       "       [ 33.5 ,   1.  ,   1.  , ...,  53.  ,  50.  , 428.  ]])"
      ]
     },
     "execution_count": 32,
     "metadata": {},
     "output_type": "execute_result"
    }
   ],
   "source": [
    "from sklearn.feature_selection import RFE\n",
    "from sklearn.linear_model import LinearRegression\n",
    "lr = LinearRegression()\n",
    "rfe = RFE(lr, n_features_to_select=43)\n",
    "rfe.fit_transform(X,y)"
   ]
  },
  {
   "cell_type": "markdown",
   "metadata": {},
   "source": [
    "**Embedded**"
   ]
  },
  {
   "cell_type": "code",
   "execution_count": null,
   "metadata": {},
   "outputs": [
    {
     "name": "stderr",
     "output_type": "stream",
     "text": [
      "d:\\python\\lib\\site-packages\\sklearn\\linear_model\\logistic.py:432: FutureWarning: Default solver will be changed to 'lbfgs' in 0.22. Specify a solver to silence this warning.\n",
      "  FutureWarning)\n",
      "d:\\python\\lib\\site-packages\\sklearn\\linear_model\\logistic.py:469: FutureWarning: Default multi_class will be changed to 'auto' in 0.22. Specify the multi_class option to silence this warning.\n",
      "  \"this warning.\", FutureWarning)\n"
     ]
    }
   ],
   "source": [
    "from sklearn.feature_selection import SelectFromModel\n",
    "from sklearn.linear_model import LogisticRegression\n",
    " \n",
    "#带L1惩罚项的逻辑回归作为基模型的特征选择\n",
    "SelectFromModel(LogisticRegression(penalty=\"l1\", C=0.1)).fit_transform(X, y)"
   ]
  },
  {
   "cell_type": "code",
   "execution_count": null,
   "metadata": {},
   "outputs": [],
   "source": [
    "from sklearn.feature_selection import SelectFromModel\n",
    "from sklearn.ensemble import GradientBoostingClassifier\n",
    " \n",
    "#GBDT作为基模型的特征选择\n",
    "SelectFromModel(GradientBoostingClassifier()).fit_transform(X, y)"
   ]
  },
  {
   "cell_type": "markdown",
   "metadata": {},
   "source": [
    "# 贡献值"
   ]
  },
  {
   "cell_type": "code",
   "execution_count": 14,
   "metadata": {},
   "outputs": [
    {
     "data": {
      "image/png": "[encoded data removed]",
      "text/plain": [
       "<Figure size 1008x2880 with 1 Axes>"
      ]
     },
     "metadata": {
      "needs_background": "light"
     },
     "output_type": "display_data"
    }
   ],
   "source": [
    "cols = (feature_importance_df[[\"feature\", \"importance\"]]\n",
    "        .groupby(\"feature\")\n",
    "        .mean()\n",
    "        .sort_values(by=\"importance\", ascending=False)[:1000].index)\n",
    "\n",
    "best_features = feature_importance_df.loc[feature_importance_df.feature.isin(cols)]\n",
    "\n",
    "plt.figure(figsize=(14,40))\n",
    "sns.barplot(x=\"importance\",\n",
    "            y=\"feature\",\n",
    "            data=best_features.sort_values(by=\"importance\",\n",
    "                                           ascending=False))\n",
    "plt.title('LightGBM Features (avg over folds)')\n",
    "plt.tight_layout()\n"
   ]
  },
  {
   "cell_type": "markdown",
   "metadata": {},
   "source": [
    "# 模型选择"
   ]
  },
  {
   "cell_type": "code",
   "execution_count": 12,
   "metadata": {},
   "outputs": [],
   "source": [
    "params = {\n",
    "    'num_leaves': 31,\n",
    "    'min_data_in_leaf': 20,\n",
    "    'min_child_samples':20,\n",
    "    'objective': 'regression',\n",
    "    'learning_rate': 0.01,\n",
    "    \"boosting\": \"gbdt\",\n",
    "    \"feature_fraction\": 0.8,\n",
    "    \"bagging_freq\": 1,\n",
    "    \"bagging_fraction\": 0.85,\n",
    "    \"bagging_seed\": 23,\n",
    "    \"metric\": 'rmse',\n",
    "    \"lambda_l1\": 0.2,\n",
    "    \"nthread\": 4,\n",
    "}"
   ]
  },
  {
   "cell_type": "code",
   "execution_count": 13,
   "metadata": {},
   "outputs": [
    {
     "name": "stdout",
     "output_type": "stream",
     "text": [
      "fold 0\n",
      "[    5     6     7 ... 40881 40882 40883] [    0     1     2 ... 40870 40876 40878]\n"
     ]
    },
    {
     "name": "stderr",
     "output_type": "stream",
     "text": [
      "d:\\python\\lib\\site-packages\\lightgbm\\basic.py:1205: UserWarning: Using categorical_feature in Dataset.\n",
      "  warnings.warn('Using categorical_feature in Dataset.')\n",
      "d:\\python\\lib\\site-packages\\lightgbm\\basic.py:762: UserWarning: categorical_feature in param dict is overridden.\n",
      "  warnings.warn('categorical_feature in param dict is overridden.')\n"
     ]
    },
    {
     "name": "stdout",
     "output_type": "stream",
     "text": [
      "Training until validation scores don't improve for 200 rounds.\n",
      "[500]\ttraining's rmse: 965.985\tvalid_1's rmse: 1077.99\n",
      "[1000]\ttraining's rmse: 868.366\tvalid_1's rmse: 1051.69\n",
      "[1500]\ttraining's rmse: 807.721\tvalid_1's rmse: 1041.77\n",
      "[2000]\ttraining's rmse: 762.49\tvalid_1's rmse: 1035.47\n",
      "[2500]\ttraining's rmse: 726.861\tvalid_1's rmse: 1031.79\n",
      "[3000]\ttraining's rmse: 697.46\tvalid_1's rmse: 1029.74\n",
      "[3500]\ttraining's rmse: 671.837\tvalid_1's rmse: 1029.21\n",
      "Early stopping, best iteration is:\n",
      "[3405]\ttraining's rmse: 676.222\tvalid_1's rmse: 1029.08\n",
      "fold 1\n",
      "[    0     1     2 ... 40880 40881 40882] [    7    10    16 ... 40865 40879 40883]\n",
      "Training until validation scores don't improve for 200 rounds.\n",
      "[500]\ttraining's rmse: 977.8\tvalid_1's rmse: 1046.13\n",
      "[1000]\ttraining's rmse: 881.124\tvalid_1's rmse: 1009.67\n",
      "[1500]\ttraining's rmse: 820.053\tvalid_1's rmse: 993.911\n",
      "[2000]\ttraining's rmse: 773.578\tvalid_1's rmse: 984.205\n",
      "[2500]\ttraining's rmse: 737.342\tvalid_1's rmse: 977.848\n",
      "[3000]\ttraining's rmse: 706.834\tvalid_1's rmse: 974.281\n",
      "[3500]\ttraining's rmse: 680.857\tvalid_1's rmse: 971.643\n",
      "[4000]\ttraining's rmse: 658.565\tvalid_1's rmse: 970.277\n",
      "[4500]\ttraining's rmse: 638.627\tvalid_1's rmse: 969.007\n",
      "[5000]\ttraining's rmse: 620.799\tvalid_1's rmse: 968.396\n",
      "Early stopping, best iteration is:\n",
      "[4807]\ttraining's rmse: 627.691\tvalid_1's rmse: 968.268\n",
      "fold 2\n",
      "[    0     1     2 ... 40880 40882 40883] [    5    13    18 ... 40874 40875 40881]\n",
      "Training until validation scores don't improve for 200 rounds.\n",
      "[500]\ttraining's rmse: 973.756\tvalid_1's rmse: 1044.61\n",
      "[1000]\ttraining's rmse: 878.076\tvalid_1's rmse: 1010.42\n",
      "[1500]\ttraining's rmse: 816.601\tvalid_1's rmse: 995.207\n",
      "[2000]\ttraining's rmse: 770.93\tvalid_1's rmse: 986.422\n",
      "[2500]\ttraining's rmse: 734.695\tvalid_1's rmse: 980.479\n",
      "[3000]\ttraining's rmse: 704.632\tvalid_1's rmse: 977.361\n",
      "[3500]\ttraining's rmse: 679.081\tvalid_1's rmse: 974.868\n",
      "[4000]\ttraining's rmse: 656.979\tvalid_1's rmse: 973.965\n",
      "[4500]\ttraining's rmse: 637.245\tvalid_1's rmse: 973.363\n",
      "Early stopping, best iteration is:\n",
      "[4338]\ttraining's rmse: 643.239\tvalid_1's rmse: 973.216\n",
      "fold 3\n",
      "[    0     1     2 ... 40880 40881 40883] [    8    11    14 ... 40873 40877 40882]\n",
      "Training until validation scores don't improve for 200 rounds.\n",
      "[500]\ttraining's rmse: 967.552\tvalid_1's rmse: 1075.63\n",
      "[1000]\ttraining's rmse: 871.023\tvalid_1's rmse: 1038.18\n",
      "[1500]\ttraining's rmse: 809.338\tvalid_1's rmse: 1023.15\n",
      "[2000]\ttraining's rmse: 763.612\tvalid_1's rmse: 1016.57\n",
      "[2500]\ttraining's rmse: 727.107\tvalid_1's rmse: 1011.04\n",
      "[3000]\ttraining's rmse: 697.205\tvalid_1's rmse: 1007.59\n",
      "[3500]\ttraining's rmse: 671.588\tvalid_1's rmse: 1005.66\n",
      "[4000]\ttraining's rmse: 649.497\tvalid_1's rmse: 1004.4\n",
      "[4500]\ttraining's rmse: 630.239\tvalid_1's rmse: 1003.04\n",
      "[5000]\ttraining's rmse: 612.824\tvalid_1's rmse: 1002.47\n",
      "Early stopping, best iteration is:\n",
      "[4902]\ttraining's rmse: 616.093\tvalid_1's rmse: 1002.32\n",
      "fold 4\n",
      "[    0     1     2 ... 40881 40882 40883] [    6     9    12 ... 40868 40872 40880]\n",
      "Training until validation scores don't improve for 200 rounds.\n",
      "[500]\ttraining's rmse: 963.043\tvalid_1's rmse: 1113.36\n",
      "[1000]\ttraining's rmse: 868.196\tvalid_1's rmse: 1073.36\n",
      "[1500]\ttraining's rmse: 807.981\tvalid_1's rmse: 1054.57\n",
      "[2000]\ttraining's rmse: 763.151\tvalid_1's rmse: 1044.46\n",
      "[2500]\ttraining's rmse: 727.113\tvalid_1's rmse: 1036.84\n",
      "[3000]\ttraining's rmse: 697.207\tvalid_1's rmse: 1032.4\n",
      "[3500]\ttraining's rmse: 671.955\tvalid_1's rmse: 1029.43\n",
      "[4000]\ttraining's rmse: 650.191\tvalid_1's rmse: 1027.1\n",
      "[4500]\ttraining's rmse: 630.572\tvalid_1's rmse: 1025.34\n",
      "[5000]\ttraining's rmse: 612.916\tvalid_1's rmse: 1024.86\n",
      "[5500]\ttraining's rmse: 597.15\tvalid_1's rmse: 1024.57\n",
      "Early stopping, best iteration is:\n",
      "[5438]\ttraining's rmse: 598.91\tvalid_1's rmse: 1024.21\n",
      "CV Score: 0.88962 \n"
     ]
    }
   ],
   "source": [
    "\n",
    "folds = KFold(n_splits=5, shuffle=True, random_state=2333)\n",
    "\n",
    "oof_lgb = np.zeros(len(train))\n",
    "predictions_lgb = np.zeros(len(test))\n",
    "feature_importance_df = pd.DataFrame()\n",
    "\n",
    "\n",
    "for fold_, (trn_idx, val_idx) in enumerate(folds.split(train.values, target.values)):\n",
    "    print(\"fold {}\".format(fold_))\n",
    "    print(trn_idx, val_idx)\n",
    "    trn_data = lgb.Dataset(train.iloc[trn_idx], label=target.iloc[trn_idx], categorical_feature=categorical_feats)\n",
    "    val_data = lgb.Dataset(train.iloc[val_idx], label=target.iloc[val_idx], categorical_feature=categorical_feats)\n",
    "    \n",
    "    num_round = 10000\n",
    "    clf = lgb.train(params, trn_data, num_round, valid_sets = [trn_data, val_data], verbose_eval=500, early_stopping_rounds = 200)\n",
    "    \n",
    "    oof_lgb[val_idx] = clf.predict(train.iloc[val_idx], num_iteration=clf.best_iteration)\n",
    "    \n",
    "    fold_importance_df = pd.DataFrame()\n",
    "    fold_importance_df[\"feature\"] = features\n",
    "    fold_importance_df[\"importance\"] = clf.feature_importance()\n",
    "    fold_importance_df[\"fold\"] = fold_ + 1\n",
    "    feature_importance_df = pd.concat([feature_importance_df, fold_importance_df], axis=0)\n",
    "    \n",
    "    predictions_lgb += clf.predict(test, num_iteration=clf.best_iteration) / folds.n_splits\n",
    "    \n",
    "print(\"CV Score: {:<8.5f}\".format(r2_score(target, oof_lgb)))"
   ]
  },
  {
   "cell_type": "code",
   "execution_count": null,
   "metadata": {},
   "outputs": [],
   "source": [
    "import xgboost as xgb\n",
    "folds = KFold(n_splits=5, shuffle=True, random_state=2333)\n",
    "\n",
    "oof_xgb = np.zeros(len(train))\n",
    "predictions_xgb = np.zeros(len(test))\n",
    "feature_importance_df = pd.DataFrame()\n",
    "\n",
    "for fold_, (trn_idx, val_idx) in enumerate(folds.split(train.values, target.values)):\n",
    "    print(\"fold {}\".format(fold_))\n",
    "    trn_data = xgb.DMatrix(train.iloc[trn_idx], label=target.iloc[trn_idx])\n",
    "    val_data = xgb.DMatrix(train.iloc[val_idx], label=target.iloc[val_idx])\n",
    "    watchlist = [(trn_data, 'train'), (val_data, 'valid_data')]\n",
    "    num_round = 10000\n",
    "    clf = xgb.train(dtrain=trn_data,num_boost_round=10000, evals=watchlist, early_stopping_rounds=200,\n",
    "                            verbose_eval=1000, params=xgb_params)\n",
    "    oof_xgb[val_idx] = clf.predict(xgb.DMatrix(train.loc[val_idx]), ntree_limit=clf.best_ntree_limit)\n",
    "    \n",
    "    fold_importance_df = pd.DataFrame()\n",
    "    fold_importance_df[\"feature\"] = features\n",
    "    fold_importance_df[\"importance\"] = clf.feature_importance()\n",
    "    fold_importance_df[\"fold\"] = fold_ + 1\n",
    "    feature_importance_df = pd.concat([feature_importance_df, fold_importance_df], axis=0)\n",
    "    \n",
    "    predictions_xgb += clf.predict(xgb.DMatrix(test),\n",
    "                                           ntree_limit=clf.best_ntree_limit) / folds.n_splits\n",
    "    \n",
    "print(\"CV Score: {:<8.5f}\".format(r2_score(target, oof_xgb)))"
   ]
  },
  {
   "cell_type": "code",
   "execution_count": null,
   "metadata": {},
   "outputs": [],
   "source": [
    "import catboost as cat\n",
    "ctb_params = {\n",
    "    'n_estimators': 10000,\n",
    "    'learning_rate': 0.02,\n",
    "    'random_seed': 4590,\n",
    "    'reg_lambda': 0.08,\n",
    "    'subsample': 0.7,\n",
    "    'bootstrap_type': 'Bernoulli',\n",
    "    'boosting_type': 'Plain',\n",
    "    'one_hot_max_size': 10,\n",
    "    'rsm': 0.5,\n",
    "    'leaf_estimation_iterations': 5,\n",
    "    'use_best_model': True,\n",
    "    'max_depth': 6,\n",
    "    'verbose': -1,\n",
    "    'thread_count': 4\n",
    "    }\n",
    "le =LabelEncoder()\n",
    "train['rentType'] = le.fit_transform(train['rentType'])\n",
    "train['houseFloor'] = le.fit_transform(train['houseFloor'])\n",
    "train['communityName'] = le.fit_transform(train['communityName'])\n",
    "train['plate'] = le.fit_transform(train['plate'])\n",
    "train['houseType_1sumcsu'] = le.fit_transform(train['houseType_1sumcsu'])\n",
    "train['houseType_2sumcsu'] = le.fit_transform(train['houseType_2sumcsu'])\n",
    "train['houseType_3sumcsu'] = le.fit_transform(train['houseType_3sumcsu'])\n",
    "test['rentType'] = le.fit_transform(test['rentType'])\n",
    "test['houseFloor'] = le.fit_transform(test['houseFloor'])\n",
    "test['communityName'] = le.fit_transform(test['communityName'])\n",
    "test['plate'] = le.fit_transform(test['plate'])\n",
    "test['houseType_1sumcsu'] = le.fit_transform(test['houseType_1sumcsu'])\n",
    "test['houseType_2sumcsu'] = le.fit_transform(test['houseType_2sumcsu'])\n",
    "test['houseType_3sumcsu'] = le.fit_transform(test['houseType_3sumcsu'])\n",
    "folds = KFold(n_splits=5, shuffle=True, random_state=2333)\n",
    "\n",
    "oof_cat = np.zeros(len(train))\n",
    "predictions_cat = np.zeros(len(test))\n",
    "feature_importance_df = pd.DataFrame()\n",
    "\n",
    "for fold_, (trn_idx, val_idx) in enumerate(folds.split(train.values, target.values)):\n",
    "    print(\"fold n°{}\".format(fold_ + 1))\n",
    "    clf = cat.CatBoostRegressor(**ctb_params)\n",
    "    clf.fit(train.iloc[trn_idx], target.iloc[trn_idx], early_stopping_rounds=200, verbose_eval=3000,\n",
    "                use_best_model=True,eval_set=(train.iloc[val_idx], target.iloc[val_idx]))\n",
    "    oof_cat[val_idx] = clf.predict(train.iloc[val_idx])\n",
    "    predictions_cat += clf.predict(test) / folds.n_splits\n",
    "    \n",
    "    fold_importance_df = pd.DataFrame()\n",
    "    fold_importance_df[\"feature\"] = features\n",
    "    fold_importance_df[\"importance\"] = clf.feature_importance()\n",
    "    fold_importance_df[\"fold\"] = fold_ + 1\n",
    "    feature_importance_df = pd.concat([feature_importance_df, fold_importance_df], axis=0)\n",
    "   \n",
    "    predictions_cat += clf.predict(test, num_iteration=clf.best_iteration) / folds.n_splits\n",
    "    \n",
    "print(\"CV Score: {:<8.5f}\".format(r2_score(target, oof_cat)))"
   ]
  }
 ],
 "metadata": {
  "kernelspec": {
   "display_name": "Python 3",
   "language": "python",
   "name": "python3"
  },
  "language_info": {
   "codemirror_mode": {
    "name": "ipython",
    "version": 3
   },
   "file_extension": ".py",
   "mimetype": "text/x-python",
   "name": "python",
   "nbconvert_exporter": "python",
   "pygments_lexer": "ipython3",
   "version": "3.6.6"
  }
 },
 "nbformat": 4,
 "nbformat_minor": 2
}
