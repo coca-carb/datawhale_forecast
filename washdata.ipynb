{
 "cells": [
  {
   "cell_type": "code",
   "execution_count": 1,
   "metadata": {},
   "outputs": [],
   "source": [
    "import pandas as pd\n",
    "import numpy as np\n",
    "import matplotlib.pyplot as plt\n",
    "import seaborn as sns\n",
    "plt.rcParams['font.sans-serif']=['SimHei'] #用来正常显示中文标签\n",
    "plt.rcParams['axes.unicode_minus']=False #用来正常显示负号"
   ]
  },
  {
   "cell_type": "code",
   "execution_count": 2,
   "metadata": {},
   "outputs": [],
   "source": [
    "train = pd.read_csv(r'E:\\PQJ\\just do it\\房租预测\\train_data.csv')\n",
    "test = pd.read_csv(r'E:\\PQJ\\just do it\\房租预测\\test_a.csv')"
   ]
  },
  {
   "cell_type": "code",
   "execution_count": 3,
   "metadata": {},
   "outputs": [
    {
     "name": "stdout",
     "output_type": "stream",
     "text": [
      "rentType: 0.7423745173745174\n",
      "houseToward: 0.02323841698841699\n",
      "houseDecoration: 0.7007722007722008\n",
      "buildYear: 0.06776061776061776\n"
     ]
    },
    {
     "name": "stderr",
     "output_type": "stream",
     "text": [
      "d:\\python\\lib\\site-packages\\ipykernel_launcher.py:3: SettingWithCopyWarning: \n",
      "A value is trying to be set on a copy of a slice from a DataFrame\n",
      "\n",
      "See the caveats in the documentation: http://pandas.pydata.org/pandas-docs/stable/indexing.html#indexing-view-versus-copy\n",
      "  This is separate from the ipykernel package so we can avoid doing imports until\n"
     ]
    }
   ],
   "source": [
    "len = len(train)\n",
    "\n",
    "train['rentType'][train['rentType']=='--'] = '未知方式'\n",
    "print('rentType:',list(train['rentType']).count(\"未知方式\")/len)\n",
    "print('houseToward:',list(train['houseToward']).count(\"暂无数据\")/len)\n",
    "print('houseDecoration:',list(train['houseDecoration']).count(\"其他\")/len)\n",
    "print('buildYear:',list(train['buildYear']).count(\"暂无信息\")/len)"
   ]
  },
  {
   "cell_type": "markdown",
   "metadata": {},
   "source": [
    "其中rentType和houseDecoration缺失值的比列达到70%，考虑将这两特征去除"
   ]
  },
  {
   "cell_type": "code",
   "execution_count": 4,
   "metadata": {},
   "outputs": [],
   "source": [
    "def parseData(df):\n",
    "    \"\"\"\n",
    "    预处理数据\n",
    "    \"\"\"\n",
    "    # 去掉部分特征\n",
    "    df.drop('ID', axis=1, inplace=True)#没意义的特征\n",
    "    df.drop('communityName',axis=1, inplace=True)#没意义的特征\n",
    "    df.drop('city',axis=1,inplace=True)#单调特征列，只有一个值\n",
    "    df.drop('rentType',axis=1, inplace=True)\n",
    "    df.drop('houseDecoration',axis=1,inplace=True)\n",
    "    \n",
    "    # 转换object类型数据\n",
    "    columns = [ 'houseFloor', 'houseToward', 'region', 'plate']\n",
    "    for col in columns:\n",
    "        df[col] = df[col].astype('category')\n",
    "        \n",
    "    # 将buildYear列转换为整型数据\n",
    "    tmp = df['buildYear'].copy()\n",
    "    tmp2 = tmp[tmp!='暂无信息'].astype('int')#先转整形\n",
    "    tmp[tmp=='暂无信息'] = tmp2.mode().iloc[0]#用众数填充独特的缺失值：'暂无信息'\n",
    "    df['buildYear'] = tmp\n",
    "    df['buildYear'] = df['buildYear'].astype('int')\n",
    "    \n",
    "    # 处理pv和uv的空值  uv和pv训练集和测试集分布类似，存在长尾现象，所以用中位数填充\n",
    "    df['pv'].fillna(df['pv'].mean(),inplace=True)\n",
    "    df['uv'].fillna(df['uv'].mean(),inplace=True)\n",
    "    df['pv'] = df['pv'].astype('int')\n",
    "    df['uv'] = df['uv'].astype('int')\n",
    "    \n",
    "    \n",
    "    return df"
   ]
  },
  {
   "cell_type": "code",
   "execution_count": 8,
   "metadata": {},
   "outputs": [
    {
     "name": "stdout",
     "output_type": "stream",
     "text": [
      "              area\n",
      "count  2469.000000\n",
      "mean     76.031839\n",
      "std      29.080334\n",
      "min      15.000000\n",
      "25%      53.000000\n",
      "50%      73.160000\n",
      "75%      94.320000\n",
      "max     150.000000\n",
      "         region    plate\n",
      "count      2469     2469\n",
      "unique       14       63\n",
      "top     RG00002  BK00056\n",
      "freq        724      125\n"
     ]
    }
   ],
   "source": [
    "print(test[['area']].describe())\n",
    "print(test[['region','plate']].describe())"
   ]
  },
  {
   "cell_type": "markdown",
   "metadata": {},
   "source": [
    "通过测试集看到area范围在15-150之间"
   ]
  },
  {
   "cell_type": "code",
   "execution_count": 9,
   "metadata": {},
   "outputs": [],
   "source": [
    "def washData(df_train, df_test):\n",
    "    \"\"\"\n",
    "    清洗数据\n",
    "    \"\"\"\n",
    "    df_train = df_train[(df_train['area']<=230) & (df_train['area']>=5) & (train['remainNewNum'] < 3000)]#比例大概是99%\n",
    "    df_train = df_train[df_train['tradeMoney']<=25000]\n",
    "    \n",
    "    \n",
    "    return df_train, df_test"
   ]
  },
  {
   "cell_type": "code",
   "execution_count": 11,
   "metadata": {},
   "outputs": [
    {
     "data": {
      "text/plain": [
       "(RG00002    11437\n",
       " RG00005     5739\n",
       " RG00003     4186\n",
       " RG00010     3640\n",
       " RG00012     3368\n",
       " RG00004     3333\n",
       " RG00006     1961\n",
       " RG00007     1610\n",
       " RG00008     1250\n",
       " RG00013     1215\n",
       " RG00001     1157\n",
       " RG00014     1069\n",
       " RG00011      793\n",
       " RG00009      681\n",
       " RG00015        1\n",
       " Name: region, dtype: int64, RG00002    724\n",
       " RG00005    311\n",
       " RG00012    262\n",
       " RG00010    194\n",
       " RG00003    178\n",
       " RG00004    153\n",
       " RG00007    142\n",
       " RG00013     97\n",
       " RG00008     86\n",
       " RG00014     86\n",
       " RG00001     77\n",
       " RG00009     61\n",
       " RG00006     55\n",
       " RG00011     43\n",
       " Name: region, dtype: int64)"
      ]
     },
     "execution_count": 11,
     "metadata": {},
     "output_type": "execute_result"
    }
   ],
   "source": [
    "train[\"region\"].value_counts(),test[\"region\"].value_counts()"
   ]
  },
  {
   "cell_type": "markdown",
   "metadata": {},
   "source": [
    "删掉训练集中得RG00015"
   ]
  },
  {
   "cell_type": "code",
   "execution_count": 14,
   "metadata": {},
   "outputs": [
    {
     "name": "stdout",
     "output_type": "stream",
     "text": [
      "BK00031    1958\n",
      "BK00033    1837\n",
      "BK00045    1816\n",
      "BK00055    1566\n",
      "BK00056    1516\n",
      "BK00052    1375\n",
      "BK00017    1305\n",
      "BK00041    1266\n",
      "BK00054    1256\n",
      "BK00051    1253\n",
      "BK00046    1227\n",
      "BK00035    1156\n",
      "BK00042    1137\n",
      "BK00009    1016\n",
      "BK00050     979\n",
      "BK00043     930\n",
      "BK00026     906\n",
      "BK00047     880\n",
      "BK00034     849\n",
      "BK00013     834\n",
      "BK00053     819\n",
      "BK00028     745\n",
      "BK00040     679\n",
      "BK00060     671\n",
      "BK00010     651\n",
      "BK00029     646\n",
      "BK00062     618\n",
      "BK00022     614\n",
      "BK00018     613\n",
      "BK00064     590\n",
      "           ... \n",
      "BK00037     444\n",
      "BK00012     412\n",
      "BK00038     398\n",
      "BK00024     397\n",
      "BK00020     384\n",
      "BK00002     357\n",
      "BK00065     348\n",
      "BK00027     344\n",
      "BK00039     343\n",
      "BK00063     281\n",
      "BK00057     278\n",
      "BK00015     253\n",
      "BK00006     231\n",
      "BK00021     226\n",
      "BK00007     225\n",
      "BK00030     219\n",
      "BK00066     219\n",
      "BK00049     211\n",
      "BK00008     210\n",
      "BK00004     189\n",
      "BK00048     165\n",
      "BK00025     157\n",
      "BK00023     127\n",
      "BK00059     122\n",
      "BK00044      98\n",
      "BK00016      40\n",
      "BK00036      33\n",
      "BK00058      15\n",
      "BK00032       3\n",
      "BK00001       1\n",
      "Name: plate, Length: 66, dtype: int64 BK00056    125\n",
      "BK00054    114\n",
      "BK00055     99\n",
      "BK00052     99\n",
      "BK00033     92\n",
      "BK00028     79\n",
      "BK00045     78\n",
      "BK00009     66\n",
      "BK00010     64\n",
      "BK00035     61\n",
      "BK00017     60\n",
      "BK00013     57\n",
      "BK00041     57\n",
      "BK00031     55\n",
      "BK00051     54\n",
      "BK00034     53\n",
      "BK00043     52\n",
      "BK00026     50\n",
      "BK00064     49\n",
      "BK00047     46\n",
      "BK00042     44\n",
      "BK00060     44\n",
      "BK00050     44\n",
      "BK00005     44\n",
      "BK00012     43\n",
      "BK00029     42\n",
      "BK00053     41\n",
      "BK00018     38\n",
      "BK00046     37\n",
      "BK00027     36\n",
      "          ... \n",
      "BK00011     32\n",
      "BK00022     31\n",
      "BK00037     31\n",
      "BK00002     31\n",
      "BK00062     30\n",
      "BK00061     30\n",
      "BK00038     27\n",
      "BK00040     24\n",
      "BK00014     22\n",
      "BK00039     22\n",
      "BK00007     21\n",
      "BK00030     21\n",
      "BK00004     20\n",
      "BK00020     19\n",
      "BK00006     19\n",
      "BK00015     18\n",
      "BK00057     16\n",
      "BK00065     15\n",
      "BK00025     13\n",
      "BK00008     13\n",
      "BK00066     13\n",
      "BK00023     12\n",
      "BK00063     11\n",
      "BK00021     11\n",
      "BK00048     10\n",
      "BK00049      9\n",
      "BK00059      8\n",
      "BK00044      7\n",
      "BK00016      3\n",
      "BK00036      1\n",
      "Name: plate, Length: 63, dtype: int64\n",
      "********************\n",
      "BK00058\n",
      "BK00032\n",
      "BK00001\n"
     ]
    }
   ],
   "source": [
    "print(train[\"plate\"].value_counts(),test[\"plate\"].value_counts())\n",
    "train_pla = train[\"plate\"].value_counts().keys()\n",
    "test_pla = test[\"plate\"].value_counts().keys()\n",
    "print(\"*\"*20)\n",
    "# find different\n",
    "for i in train_pla:\n",
    "    if i not in test_pla:\n",
    "        print(i)"
   ]
  },
  {
   "cell_type": "code",
   "execution_count": null,
   "metadata": {},
   "outputs": [],
   "source": [
    "def feature(df):\n",
    "    \"\"\"\n",
    "    特征\n",
    "    \"\"\"\n",
    "    # 将houseType转化为‘房间数’，‘厅数’，‘卫生间数’\n",
    "    def parseRoom(info, index):\n",
    "        res = int(info[index*2])\n",
    "        return res\n",
    "    df.insert(3,'室',None)\n",
    "    df.insert(4, '厅', None)\n",
    "    df.insert(5, '卫', None)\n",
    "    df['室'] = df['houseType'].apply(parseRoom, index=0)#将这一列的每一个值以str形式传入parseRoom函数中，返回info[index]\n",
    "    df['厅'] = df['houseType'].apply(parseRoom, index=1)\n",
    "    df['卫'] = df['houseType'].apply(parseRoom, index=2)\n",
    "    \n",
    "    df['交易月份'] = df['tradeTime'].apply(lambda x: int(x.split('/')[1]))  #以 / 分割，返回list，取[1]即月份\n",
    "    \n",
    "    #region\n",
    "    df = df.drop(df[df['region']==\"RG00015\"].index)\n",
    "    \n",
    "    df.drop('houseType', axis=1, inplace=True)\n",
    "    df.drop('tradeTime', axis=1, inplace=True)\n",
    "    \n",
    "    categorical_feats = [ 'houseFloor', 'houseToward', 'region', 'plate']\n",
    "    return df, categorical_feats"
   ]
  }
 ],
 "metadata": {
  "kernelspec": {
   "display_name": "Python 3",
   "language": "python",
   "name": "python3"
  },
  "language_info": {
   "codemirror_mode": {
    "name": "ipython",
    "version": 3
   },
   "file_extension": ".py",
   "mimetype": "text/x-python",
   "name": "python",
   "nbconvert_exporter": "python",
   "pygments_lexer": "ipython3",
   "version": "3.6.6"
  }
 },
 "nbformat": 4,
 "nbformat_minor": 2
}
